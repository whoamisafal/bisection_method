{
 "cells": [
  {
   "cell_type": "code",
   "execution_count": 1,
   "metadata": {},
   "outputs": [
    {
     "data": {
      "text/plain": [
       "bisection_method (generic function with 1 method)"
      ]
     },
     "metadata": {},
     "output_type": "display_data"
    }
   ],
   "source": [
    "\n",
    "# define function \n",
    "f(x::Float32)= x^3-2x-5\n",
    "#criteria function to decide whether the inital guess have solution exists or not in given range \n",
    "criteria(f::Function,a::Float32,b::Float32)::Bool=f(a)*f(b)<0\n",
    "# to calculate the average \n",
    "avg(a,b)=(a+b)/2\n",
    "# breakpoint or converge point for the algorithm\n",
    "breakPoint(x,y,tol_error)=begin\n",
    "    value =(y-x)/2\n",
    "    if value > tol_error\n",
    "        return true \n",
    "    else false\n",
    "    end \n",
    "end\n",
    "\n",
    "bisection_method(f::Function,tol_err::Float32,a::Float32,b::Float32) = begin\n",
    "    if !criteria(f,a,b)\n",
    "        return \"Given interval doesn't exists solution [$a,$b]\"\n",
    "    end\n",
    "    iteration = 0 \n",
    "    while breakPoint(a,b,tol_err)\n",
    "        average = avg(a,b)\n",
    "        func_value = f(average)\n",
    "        println(\"iteration: $iteration ia: $a, b: $b, average: $average, func_value: $func_value\")\n",
    "        if func_value>0\n",
    "            b = average\n",
    "        else a = average\n",
    "        end\n",
    "        iteration+=1\n",
    "    end\n",
    "end"
   ]
  },
  {
   "cell_type": "code",
   "execution_count": 2,
   "metadata": {},
   "outputs": [
    {
     "name": "stdout",
     "output_type": "stream",
     "text": [
      "iteration: 0 ia: 2.0, b: 3.0, average: 2.5, func_value: 5.625\n",
      "iteration: 1 ia: 2.0, b: 2.5, average: 2.25, func_value: 1.890625\n",
      "iteration: 2 ia: 2.0, b: 2.25, average: 2.125, func_value: 0.34570312\n",
      "iteration: 3 ia: 2.0, b: 2.125, average: 2.0625, func_value: -0.35131836\n",
      "iteration: 4 ia: 2.0625, b: 2.125, average: 2.09375, func_value: -0.00894165\n",
      "iteration: 5 ia: 2.09375, b: 2.125, average: 2.109375, func_value: 0.16683578\n"
     ]
    }
   ],
   "source": [
    "bisection_method(f,Float32(10^-2),Float32(2),Float32(3))"
   ]
  }
 ],
 "metadata": {
  "kernelspec": {
   "display_name": "Julia 1.10.5",
   "language": "julia",
   "name": "julia-1.10"
  },
  "language_info": {
   "file_extension": ".jl",
   "mimetype": "application/julia",
   "name": "julia",
   "version": "1.10.5"
  }
 },
 "nbformat": 4,
 "nbformat_minor": 2
}
